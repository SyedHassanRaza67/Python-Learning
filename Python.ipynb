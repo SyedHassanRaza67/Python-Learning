{
  "nbformat": 4,
  "nbformat_minor": 0,
  "metadata": {
    "colab": {
      "provenance": [],
      "authorship_tag": "ABX9TyMQA11ue8np0autYdEQFPup",
      "include_colab_link": true
    },
    "kernelspec": {
      "name": "python3",
      "display_name": "Python 3"
    },
    "language_info": {
      "name": "python"
    }
  },
  "cells": [
    {
      "cell_type": "markdown",
      "metadata": {
        "id": "view-in-github",
        "colab_type": "text"
      },
      "source": [
        "<a href=\"https://colab.research.google.com/github/SyedHassanRaza67/Python-Learning/blob/main/Python.ipynb\" target=\"_parent\"><img src=\"https://colab.research.google.com/assets/colab-badge.svg\" alt=\"Open In Colab\"/></a>"
      ]
    },
    {
      "cell_type": "code",
      "source": [],
      "metadata": {
        "id": "6Ta15RXw87SJ"
      },
      "execution_count": null,
      "outputs": []
    },
    {
      "cell_type": "code",
      "execution_count": null,
      "metadata": {
        "id": "h0k0xnmLoKxe",
        "colab": {
          "base_uri": "https://localhost:8080/"
        },
        "outputId": "d2c6ccbd-323c-4a84-cb02-5cc99ad7c0fc"
      },
      "outputs": [
        {
          "output_type": "stream",
          "name": "stdout",
          "text": [
            "[[1, 2, 3], [4, 5, 6], [7, 8, 9]]\n"
          ]
        }
      ],
      "source": [
        "# list functions     (Data Analysis)\n",
        "\n",
        "# print first two rows\n",
        "\n",
        "matrix =[\n",
        "    [1, 2, 3],\n",
        "    [4, 5, 6],\n",
        "    [7, 8, 9]\n",
        "]\n",
        "new =matrix[0][1]\n",
        "print(new)"
      ]
    },
    {
      "cell_type": "code",
      "source": [
        "# print center column\n",
        "\n",
        "matrix =[\n",
        "    [1, 2, 3],\n",
        "    [4, 2, 5],\n",
        "    [6, 2, 7]\n",
        "]\n",
        "new =matrix[0][1]\n",
        "print(new)"
      ],
      "metadata": {
        "colab": {
          "base_uri": "https://localhost:8080/"
        },
        "id": "qVeqZg0qofsF",
        "outputId": "72866c28-d72e-49a2-9015-5f58353a1043"
      },
      "execution_count": null,
      "outputs": [
        {
          "output_type": "stream",
          "name": "stdout",
          "text": [
            "2\n"
          ]
        }
      ]
    },
    {
      "cell_type": "code",
      "source": [
        "matrix =[\n",
        "    [\"Orange\", \"Mango\", \"Guava\"]\n",
        "    [\"Apple1\", \"Apple2\", \"Apple3\"]\n",
        "    [\"Orange1\", \"Orange2\", \"Oravne3\"]\n",
        "]\n",
        "new = matrix[0]\n",
        "print(new)"
      ],
      "metadata": {
        "colab": {
          "base_uri": "https://localhost:8080/",
          "height": 280
        },
        "id": "b67N7dt_-HUo",
        "outputId": "3bfec23c-fc85-444c-e1ea-94b71ea0aab3"
      },
      "execution_count": null,
      "outputs": [
        {
          "output_type": "stream",
          "name": "stderr",
          "text": [
            "<>:2: SyntaxWarning: list indices must be integers or slices, not tuple; perhaps you missed a comma?\n",
            "<>:2: SyntaxWarning: list indices must be integers or slices, not tuple; perhaps you missed a comma?\n",
            "<ipython-input-35-e71e0891c95a>:2: SyntaxWarning: list indices must be integers or slices, not tuple; perhaps you missed a comma?\n",
            "  [\"Orange\", \"Mango\", \"Guava\"]\n"
          ]
        },
        {
          "output_type": "error",
          "ename": "TypeError",
          "evalue": "list indices must be integers or slices, not tuple",
          "traceback": [
            "\u001b[0;31m---------------------------------------------------------------------------\u001b[0m",
            "\u001b[0;31mTypeError\u001b[0m                                 Traceback (most recent call last)",
            "\u001b[0;32m<ipython-input-35-e71e0891c95a>\u001b[0m in \u001b[0;36m<cell line: 0>\u001b[0;34m()\u001b[0m\n\u001b[1;32m      1\u001b[0m matrix =[\n\u001b[0;32m----> 2\u001b[0;31m     \u001b[0;34m[\u001b[0m\u001b[0;34m\"Orange\"\u001b[0m\u001b[0;34m,\u001b[0m \u001b[0;34m\"Mango\"\u001b[0m\u001b[0;34m,\u001b[0m \u001b[0;34m\"Guava\"\u001b[0m\u001b[0;34m]\u001b[0m\u001b[0;34m\u001b[0m\u001b[0;34m\u001b[0m\u001b[0m\n\u001b[0m\u001b[1;32m      3\u001b[0m     \u001b[0;34m[\u001b[0m\u001b[0;34m\"Apple1\"\u001b[0m\u001b[0;34m,\u001b[0m \u001b[0;34m\"Apple2\"\u001b[0m\u001b[0;34m,\u001b[0m \u001b[0;34m\"Apple3\"\u001b[0m\u001b[0;34m]\u001b[0m\u001b[0;34m\u001b[0m\u001b[0;34m\u001b[0m\u001b[0m\n\u001b[1;32m      4\u001b[0m     \u001b[0;34m[\u001b[0m\u001b[0;34m\"Orange1\"\u001b[0m\u001b[0;34m,\u001b[0m \u001b[0;34m\"Orange2\"\u001b[0m\u001b[0;34m,\u001b[0m \u001b[0;34m\"Oravne3\"\u001b[0m\u001b[0;34m]\u001b[0m\u001b[0;34m\u001b[0m\u001b[0;34m\u001b[0m\u001b[0m\n\u001b[1;32m      5\u001b[0m ]\n",
            "\u001b[0;31mTypeError\u001b[0m: list indices must be integers or slices, not tuple"
          ]
        }
      ]
    },
    {
      "cell_type": "code",
      "source": [],
      "metadata": {
        "id": "gjfxOKAr-vuk"
      },
      "execution_count": null,
      "outputs": []
    },
    {
      "cell_type": "code",
      "source": [
        "#Appent items\n",
        "\n",
        "fruits =[\"apple\", \"apple2\", \"apple3\"]\n",
        "fruits.append(\"New Apple\")\n",
        "print(fruits)"
      ],
      "metadata": {
        "colab": {
          "base_uri": "https://localhost:8080/"
        },
        "id": "QDDQuK6y2lbr",
        "outputId": "8d6c1ff3-ff90-4abe-e1a5-5f565e257f08"
      },
      "execution_count": null,
      "outputs": [
        {
          "output_type": "stream",
          "name": "stdout",
          "text": [
            "['apple', 'apple2', 'apple3', 'New Apple']\n"
          ]
        }
      ]
    },
    {
      "cell_type": "code",
      "source": [
        "#insert\n",
        "\n",
        "inserte =[\"insert1\", \"insert2\", \"insert3\"]\n",
        "inserte.insert(1, \"newItem\")\n",
        "print(inserte)"
      ],
      "metadata": {
        "colab": {
          "base_uri": "https://localhost:8080/"
        },
        "id": "MWuNgUzR3Mtn",
        "outputId": "2a0021df-427f-42e7-a307-765b7128ec04"
      },
      "execution_count": null,
      "outputs": [
        {
          "output_type": "stream",
          "name": "stdout",
          "text": [
            "['insert1', 'newItem', 'insert2', 'insert3']\n"
          ]
        }
      ]
    },
    {
      "cell_type": "code",
      "source": [
        "#extend\n",
        "\n",
        "item1 =[\"a\", \"b\", \"c\"]\n",
        "item2 =[\"d\", \"e\", \"f\"]\n",
        "item1.extend(item2)\n",
        "print(item1)"
      ],
      "metadata": {
        "colab": {
          "base_uri": "https://localhost:8080/"
        },
        "id": "0-fTPRSY4Uu-",
        "outputId": "422b5d00-ce44-4f34-e886-15ed5181f41e"
      },
      "execution_count": null,
      "outputs": [
        {
          "output_type": "stream",
          "name": "stdout",
          "text": [
            "['a', 'b', 'c', 'd', 'e', 'f']\n"
          ]
        }
      ]
    },
    {
      "cell_type": "code",
      "source": [
        "#Remove\n",
        "\n",
        "School = [\"ali\", \"Hassan\", \"Raza\"]\n",
        "School.remove(\"Raza\")\n",
        "print(School)"
      ],
      "metadata": {
        "colab": {
          "base_uri": "https://localhost:8080/"
        },
        "id": "QXplwZif4rgC",
        "outputId": "852e4b4b-7def-456b-98f7-505a181e2bbb"
      },
      "execution_count": null,
      "outputs": [
        {
          "output_type": "stream",
          "name": "stdout",
          "text": [
            "['ali', 'Hassan']\n"
          ]
        }
      ]
    },
    {
      "cell_type": "code",
      "source": [
        "#Pop\n",
        "\n",
        "School = [\"Ali\", \"Hassan\", \"John\", \"Zack\"]\n",
        "School.pop(2)\n",
        "print(School)"
      ],
      "metadata": {
        "colab": {
          "base_uri": "https://localhost:8080/"
        },
        "id": "34zFgmi65uY2",
        "outputId": "35148b4a-9b6e-42a5-93f1-42b406f44bdb"
      },
      "execution_count": null,
      "outputs": [
        {
          "output_type": "stream",
          "name": "stdout",
          "text": [
            "['Ali', 'Hassan', 'Zack']\n"
          ]
        }
      ]
    },
    {
      "cell_type": "code",
      "source": [
        "#Del\n",
        "\n",
        "college =[\"Sumaya\", \"Sumreen\", \"Bisma\"]\n",
        "college.del()\n",
        "print(college)"
      ],
      "metadata": {
        "id": "SAOO7olF6BR8",
        "colab": {
          "base_uri": "https://localhost:8080/",
          "height": 106
        },
        "outputId": "cdd38cfa-1f1b-4f66-d97b-7635090b82c8"
      },
      "execution_count": null,
      "outputs": [
        {
          "output_type": "error",
          "ename": "SyntaxError",
          "evalue": "invalid syntax (<ipython-input-63-5c9c1a1c03dc>, line 4)",
          "traceback": [
            "\u001b[0;36m  File \u001b[0;32m\"<ipython-input-63-5c9c1a1c03dc>\"\u001b[0;36m, line \u001b[0;32m4\u001b[0m\n\u001b[0;31m    college.del()\u001b[0m\n\u001b[0m            ^\u001b[0m\n\u001b[0;31mSyntaxError\u001b[0m\u001b[0;31m:\u001b[0m invalid syntax\n"
          ]
        }
      ]
    },
    {
      "cell_type": "code",
      "source": [
        "#clear\n",
        "\n",
        "School = [\"Ali\", \"Hassan\", \"John\", \"Zack\"]\n",
        "School.clear()\n",
        "print(School)"
      ],
      "metadata": {
        "colab": {
          "base_uri": "https://localhost:8080/"
        },
        "id": "oNVeBcDH7EUj",
        "outputId": "dc6ce110-c54b-4c50-8700-853078714031"
      },
      "execution_count": null,
      "outputs": [
        {
          "output_type": "stream",
          "name": "stdout",
          "text": [
            "[]\n"
          ]
        }
      ]
    },
    {
      "cell_type": "code",
      "source": [
        "#sort list\n",
        "\n",
        "sorting =[\"banana\", \"apple\", \"mango\", \"pinapple\"]\n",
        "sorting.sort()\n",
        "print(sorting)"
      ],
      "metadata": {
        "colab": {
          "base_uri": "https://localhost:8080/"
        },
        "id": "lzlGAkSl-yns",
        "outputId": "b2243819-8d1e-4650-87d3-d65faf952b05"
      },
      "execution_count": null,
      "outputs": [
        {
          "output_type": "stream",
          "name": "stdout",
          "text": [
            "['apple', 'banana', 'mango']\n"
          ]
        }
      ]
    },
    {
      "cell_type": "code",
      "source": [
        "#sort list\n",
        "\n",
        "sorting =[1, 2, 3, 4]\n",
        "sorting.sort()\n",
        "print(sorting)"
      ],
      "metadata": {
        "colab": {
          "base_uri": "https://localhost:8080/"
        },
        "id": "2XJBgFvXD7ka",
        "outputId": "449b15da-2e22-4c9b-99ff-1e8f3c3467e6"
      },
      "execution_count": null,
      "outputs": [
        {
          "output_type": "stream",
          "name": "stdout",
          "text": [
            "[1, 2, 3, 4]\n"
          ]
        }
      ]
    },
    {
      "cell_type": "code",
      "source": [
        "#Reverse in order to alphabates\n",
        "\n",
        "sorting =[\"banana\", \"apple\", \"mango\", \"pinapple\"]\n",
        "sorting.sort(reverse = True)\n",
        "print(sorting)"
      ],
      "metadata": {
        "colab": {
          "base_uri": "https://localhost:8080/"
        },
        "id": "3lU-UIiAFAEH",
        "outputId": "f0e5bd6e-b0fe-4b42-be1c-975be33f6d63"
      },
      "execution_count": null,
      "outputs": [
        {
          "output_type": "stream",
          "name": "stdout",
          "text": [
            "['pinapple', 'mango', 'banana', 'apple']\n"
          ]
        }
      ]
    },
    {
      "cell_type": "code",
      "source": [
        "#Case Sensitive sort (Pinapple is on the first because the ASCII number is low so it come first)\n",
        "\n",
        "sorting =[\"banana\", \"apple\", \"mango\", \"Pinapple\"]\n",
        "sorting.sort()\n",
        "print(sorting)"
      ],
      "metadata": {
        "colab": {
          "base_uri": "https://localhost:8080/"
        },
        "id": "kyJUH-yGGMBW",
        "outputId": "f7d5f8c8-011f-4aea-f6ce-3cafe3ce3872"
      },
      "execution_count": null,
      "outputs": [
        {
          "output_type": "stream",
          "name": "stdout",
          "text": [
            "['Pinapple', 'apple', 'banana', 'mango']\n"
          ]
        }
      ]
    },
    {
      "cell_type": "code",
      "source": [
        "#Reverse in order to values\n",
        "\n",
        "sorting =[\"banana\", \"apple\", \"mango\", \"pinapple\"]\n",
        "sorting.reverse()\n",
        "print(sorting)"
      ],
      "metadata": {
        "colab": {
          "base_uri": "https://localhost:8080/"
        },
        "id": "3VgERK3ZFHVO",
        "outputId": "5ff19792-0589-41e1-9b21-aaaee3b1d44f"
      },
      "execution_count": null,
      "outputs": [
        {
          "output_type": "stream",
          "name": "stdout",
          "text": [
            "['pinapple', 'mango', 'apple', 'banana']\n"
          ]
        }
      ]
    },
    {
      "cell_type": "code",
      "source": [
        "#copy the original value not changed so the data is safe we easily edit or chagnes\n",
        "\n",
        "sorting =[\"banana\", \"apple\", \"mango\", \"pinapple\"]\n",
        "sorting.copy()\n",
        "print(sorting)"
      ],
      "metadata": {
        "colab": {
          "base_uri": "https://localhost:8080/"
        },
        "id": "AbjMdMlkFdbJ",
        "outputId": "0a83e782-1cb8-4043-ea78-8525464470f7"
      },
      "execution_count": null,
      "outputs": [
        {
          "output_type": "stream",
          "name": "stdout",
          "text": [
            "['banana', 'apple', 'mango', 'pinapple']\n"
          ]
        }
      ]
    },
    {
      "cell_type": "code",
      "source": [
        "#Concatination\n",
        "\n",
        "sorting1 =[\"banana\", \"apple\", \"mango\", \"pinapple\"]\n",
        "sorting2 =[1, 2, 3, 4]\n",
        "new = sorting1 + sorting2\n",
        "print(new)"
      ],
      "metadata": {
        "colab": {
          "base_uri": "https://localhost:8080/"
        },
        "id": "-aYNoA5JFstC",
        "outputId": "cbe2a6ad-bb84-4b2d-bfbc-821dba8a4256"
      },
      "execution_count": null,
      "outputs": [
        {
          "output_type": "stream",
          "name": "stdout",
          "text": [
            "['banana', 'apple', 'mango', 'pinapple', 1, 2, 3, 4]\n"
          ]
        }
      ]
    },
    {
      "cell_type": "code",
      "source": [
        "#Concatination method 2\n",
        "\n",
        "sorting1 =[\"banana\", \"apple\", \"mango\", \"pinapple\"]\n",
        "sorting2 =[1, 2, 3, 4]\n",
        "sorting1.extend(sorting2)\n",
        "print(sorting1)"
      ],
      "metadata": {
        "colab": {
          "base_uri": "https://localhost:8080/"
        },
        "id": "tHHIvMH9F_PM",
        "outputId": "c2c3a070-2559-4494-eab1-b3b31aa303fa"
      },
      "execution_count": null,
      "outputs": [
        {
          "output_type": "stream",
          "name": "stdout",
          "text": [
            "['banana', 'apple', 'mango', 'pinapple', 1, 2, 3, 4]\n"
          ]
        }
      ]
    },
    {
      "cell_type": "code",
      "source": [
        "#Copy\n",
        "\n",
        "sorting =[\"banana\", \"apple\", \"mango\", \"pinapple\"]\n",
        "new = sorting.copy\n",
        "print(new)"
      ],
      "metadata": {
        "colab": {
          "base_uri": "https://localhost:8080/"
        },
        "id": "_tHWD4GBGxds",
        "outputId": "446bd48e-04c0-498f-e9ea-7ceb1cc01960"
      },
      "execution_count": null,
      "outputs": [
        {
          "output_type": "stream",
          "name": "stdout",
          "text": [
            "<built-in method copy of list object at 0x7a34cddc00c0>\n"
          ]
        }
      ]
    },
    {
      "cell_type": "code",
      "source": [
        "# Tupples\n",
        "\n",
        "fruits = (\"apple\", \"banana\", \"cherry\")\n",
        "print(fruits[0])\n"
      ],
      "metadata": {
        "id": "KjtpyjdpG-GG",
        "colab": {
          "base_uri": "https://localhost:8080/"
        },
        "outputId": "8fa06000-ec94-474d-bf60-61466b032488"
      },
      "execution_count": 1,
      "outputs": [
        {
          "output_type": "stream",
          "name": "stdout",
          "text": [
            "apple\n"
          ]
        }
      ]
    },
    {
      "cell_type": "code",
      "source": [
        "print(fruits[-1])\n"
      ],
      "metadata": {
        "colab": {
          "base_uri": "https://localhost:8080/"
        },
        "id": "KWXYQW5mCKv7",
        "outputId": "2d914c41-44c5-41ac-9343-069c5dea5f9d"
      },
      "execution_count": 4,
      "outputs": [
        {
          "output_type": "stream",
          "name": "stdout",
          "text": [
            "cherry\n"
          ]
        }
      ]
    },
    {
      "cell_type": "code",
      "source": [
        "numbers = (1, 2, 3, 4, 5, 6)\n",
        "print(numbers[1:3])"
      ],
      "metadata": {
        "colab": {
          "base_uri": "https://localhost:8080/"
        },
        "id": "nbUgowzRCRcT",
        "outputId": "bb9f036f-07e7-41a0-e434-e98c8144e7fe"
      },
      "execution_count": 6,
      "outputs": [
        {
          "output_type": "stream",
          "name": "stdout",
          "text": [
            "(2, 3)\n"
          ]
        }
      ]
    },
    {
      "cell_type": "code",
      "source": [
        "# Tuples support basic operations like concatenation and repetition\n",
        "\n",
        "one = (\"a\", \"b\", \"c\")\n",
        "two = (\"d\", \"e\", \"f\")\n",
        "final = one + two\n",
        "print(final)"
      ],
      "metadata": {
        "colab": {
          "base_uri": "https://localhost:8080/"
        },
        "id": "_OZNAXwYCc2O",
        "outputId": "3229433b-59c6-4d55-a853-8caef9bca1ab"
      },
      "execution_count": 8,
      "outputs": [
        {
          "output_type": "stream",
          "name": "stdout",
          "text": [
            "('a', 'b', 'c', 'd', 'e', 'f')\n"
          ]
        }
      ]
    },
    {
      "cell_type": "code",
      "source": [
        "#Repeat Tuples\n",
        "\n",
        "tuppl= (1, 2) *2\n",
        "print(tuppl)"
      ],
      "metadata": {
        "colab": {
          "base_uri": "https://localhost:8080/"
        },
        "id": "Z2IJchUMDgWO",
        "outputId": "9f034ee5-3466-406b-f00f-1b5afa3aae08"
      },
      "execution_count": 13,
      "outputs": [
        {
          "output_type": "stream",
          "name": "stdout",
          "text": [
            "(1, 2, 1, 2)\n"
          ]
        }
      ]
    },
    {
      "cell_type": "code",
      "source": [
        "# in\n",
        "new = (\"Ali\", \"Hassan\", \"Farhan\")\n",
        "print (\"Hassan\" in new)"
      ],
      "metadata": {
        "colab": {
          "base_uri": "https://localhost:8080/"
        },
        "id": "a18TNpKlD7KM",
        "outputId": "61c79a44-7462-4d5d-d72c-3bce66b1f2a9"
      },
      "execution_count": 15,
      "outputs": [
        {
          "output_type": "stream",
          "name": "stdout",
          "text": [
            "True\n"
          ]
        }
      ]
    },
    {
      "cell_type": "code",
      "source": [
        "#Tupple Methods Although tuples are immutable, they support some useful methods\n",
        "\n",
        "number = (1, 2, 3, 4, 5, 6, 3)\n",
        "print(number.count(3))\n",
        "\n",
        "print (numbers.index(3))"
      ],
      "metadata": {
        "colab": {
          "base_uri": "https://localhost:8080/"
        },
        "id": "y9aNWR2DEUiF",
        "outputId": "da9e4938-2590-42fe-f396-9110eaf1bab8"
      },
      "execution_count": 19,
      "outputs": [
        {
          "output_type": "stream",
          "name": "stdout",
          "text": [
            "2\n",
            "2\n"
          ]
        }
      ]
    },
    {
      "cell_type": "code",
      "source": [
        "#converting Tupples into List\n",
        "\n",
        "school = ('ali', 'hassan', 'farhan')\n",
        "new = list(school)\n",
        "school[1]=\"John\"\n",
        "school=tuple(new)\n",
        "print(school)\n",
        "\n"
      ],
      "metadata": {
        "colab": {
          "base_uri": "https://localhost:8080/",
          "height": 211
        },
        "id": "983aukb9E4gE",
        "outputId": "ff1c0365-5636-444c-994b-2f56700be162"
      },
      "execution_count": 29,
      "outputs": [
        {
          "output_type": "error",
          "ename": "TypeError",
          "evalue": "'tuple' object does not support item assignment",
          "traceback": [
            "\u001b[0;31m---------------------------------------------------------------------------\u001b[0m",
            "\u001b[0;31mTypeError\u001b[0m                                 Traceback (most recent call last)",
            "\u001b[0;32m<ipython-input-29-cff0f573d6a9>\u001b[0m in \u001b[0;36m<cell line: 0>\u001b[0;34m()\u001b[0m\n\u001b[1;32m      3\u001b[0m \u001b[0mschool\u001b[0m \u001b[0;34m=\u001b[0m \u001b[0;34m(\u001b[0m\u001b[0;34m'ali'\u001b[0m\u001b[0;34m,\u001b[0m \u001b[0;34m'hassan'\u001b[0m\u001b[0;34m,\u001b[0m \u001b[0;34m'farhan'\u001b[0m\u001b[0;34m)\u001b[0m\u001b[0;34m\u001b[0m\u001b[0;34m\u001b[0m\u001b[0m\n\u001b[1;32m      4\u001b[0m \u001b[0mnew\u001b[0m \u001b[0;34m=\u001b[0m \u001b[0mlist\u001b[0m\u001b[0;34m(\u001b[0m\u001b[0mschool\u001b[0m\u001b[0;34m)\u001b[0m\u001b[0;34m\u001b[0m\u001b[0;34m\u001b[0m\u001b[0m\n\u001b[0;32m----> 5\u001b[0;31m \u001b[0mschool\u001b[0m\u001b[0;34m[\u001b[0m\u001b[0;36m1\u001b[0m\u001b[0;34m]\u001b[0m\u001b[0;34m=\u001b[0m\u001b[0;34m\"John\"\u001b[0m\u001b[0;34m\u001b[0m\u001b[0;34m\u001b[0m\u001b[0m\n\u001b[0m\u001b[1;32m      6\u001b[0m \u001b[0mx\u001b[0m\u001b[0;34m=\u001b[0m\u001b[0mtuple\u001b[0m\u001b[0;34m(\u001b[0m\u001b[0mnew\u001b[0m\u001b[0;34m)\u001b[0m\u001b[0;34m\u001b[0m\u001b[0;34m\u001b[0m\u001b[0m\n\u001b[1;32m      7\u001b[0m \u001b[0mprint\u001b[0m\u001b[0;34m(\u001b[0m\u001b[0mx\u001b[0m\u001b[0;34m)\u001b[0m\u001b[0;34m\u001b[0m\u001b[0;34m\u001b[0m\u001b[0m\n",
            "\u001b[0;31mTypeError\u001b[0m: 'tuple' object does not support item assignment"
          ]
        }
      ]
    },
    {
      "cell_type": "code",
      "source": [
        "# , is necessary in tuples\n",
        "x= ('a',)\n",
        "print(x)\n",
        "print(type(x))"
      ],
      "metadata": {
        "colab": {
          "base_uri": "https://localhost:8080/"
        },
        "id": "pdhI7LQmHMA4",
        "outputId": "a0f74bd0-d30d-4242-e21b-488e6d4e8f39"
      },
      "execution_count": 30,
      "outputs": [
        {
          "output_type": "stream",
          "name": "stdout",
          "text": [
            "('a',)\n",
            "<class 'tuple'>\n"
          ]
        }
      ]
    },
    {
      "cell_type": "markdown",
      "source": [
        "What is Dictionary?\n",
        "A dictionary (dict) is an unordered, mutable collection of key-value pairs.\n",
        "\n",
        "Key Characteristics:\n",
        "Uses keys to store and retrive values.\n",
        "key must be unique adn immutable (not editable)"
      ],
      "metadata": {
        "id": "zIB5bF4aSZkN"
      }
    },
    {
      "cell_type": "code",
      "source": [
        "#Dictionary: is a collection fo Key-Value Pairs(items)\n",
        "\n",
        "student = {\n",
        "    \"name\": \"Zack\", \"class\": \"tenth\", \"age\": \"44\", \"country\": \"United States\", \"region\": \"London\"\n",
        "}\n",
        "# print(student)\n",
        "# student[\"name\"]\n",
        "# del student[\"country\"]\n",
        "# print(student)\n",
        "# print (student.get(\"class\"))\n",
        "# print (student.keys())\n",
        "# print (student.values())"
      ],
      "metadata": {
        "colab": {
          "base_uri": "https://localhost:8080/"
        },
        "id": "dV9tP-FFMpaQ",
        "outputId": "f44f88a9-7a7e-4a04-ce46-74aee0dfd18d"
      },
      "execution_count": 54,
      "outputs": [
        {
          "output_type": "stream",
          "name": "stdout",
          "text": [
            "dict_keys(['name', 'class', 'age', 'country', 'region'])\n",
            "dict_values(['Zack', 'tenth', '44', 'United States', 'London'])\n"
          ]
        }
      ]
    },
    {
      "cell_type": "code",
      "source": [
        "print (student.items())\n",
        "# student.update({\"age\": \"12\", \"region\": \"Paris\"})\n",
        "# print(student)"
      ],
      "metadata": {
        "colab": {
          "base_uri": "https://localhost:8080/"
        },
        "id": "RgKfZhPQN6ub",
        "outputId": "6ce401f8-4cb5-4860-a042-83937b91db22"
      },
      "execution_count": 62,
      "outputs": [
        {
          "output_type": "stream",
          "name": "stdout",
          "text": [
            "dict_items([('name', 'Zack'), ('class', 'tenth'), ('age', '12'), ('country', 'United States'), ('region', 'Paris')])\n"
          ]
        }
      ]
    }
  ]
}